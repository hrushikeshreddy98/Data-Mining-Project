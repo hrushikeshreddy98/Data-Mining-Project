{
 "cells": [
  {
   "cell_type": "code",
   "execution_count": 2,
   "id": "c1b4087b",
   "metadata": {},
   "outputs": [],
   "source": [
    "import pandas as pd\n",
    "import numpy as np\n",
    "from matplotlib import pyplot as plt\n",
    "from sklearn import svm\n",
    "import seaborn as sns\n",
    "from sklearn.model_selection import train_test_split\n",
    "from sklearn.preprocessing import LabelEncoder\n",
    "from sklearn.decomposition import PCA\n",
    "from sklearn.metrics import confusion_matrix\n",
    "\n",
    "from sklearn.tree import DecisionTreeClassifier"
   ]
  },
  {
   "cell_type": "code",
   "execution_count": 3,
   "id": "f1647116",
   "metadata": {},
   "outputs": [
    {
     "data": {
      "text/html": [
       "<div>\n",
       "<style scoped>\n",
       "    .dataframe tbody tr th:only-of-type {\n",
       "        vertical-align: middle;\n",
       "    }\n",
       "\n",
       "    .dataframe tbody tr th {\n",
       "        vertical-align: top;\n",
       "    }\n",
       "\n",
       "    .dataframe thead th {\n",
       "        text-align: right;\n",
       "    }\n",
       "</style>\n",
       "<table border=\"1\" class=\"dataframe\">\n",
       "  <thead>\n",
       "    <tr style=\"text-align: right;\">\n",
       "      <th></th>\n",
       "      <th>BMI</th>\n",
       "      <th>PhysicalHealth</th>\n",
       "      <th>MentalHealth</th>\n",
       "      <th>Smoking</th>\n",
       "      <th>AlcoholDrinking</th>\n",
       "      <th>Sex</th>\n",
       "      <th>Asthma</th>\n",
       "      <th>HeartDisease</th>\n",
       "    </tr>\n",
       "  </thead>\n",
       "  <tbody>\n",
       "    <tr>\n",
       "      <th>0</th>\n",
       "      <td>16.60</td>\n",
       "      <td>3.0</td>\n",
       "      <td>30.0</td>\n",
       "      <td>Yes</td>\n",
       "      <td>No</td>\n",
       "      <td>Female</td>\n",
       "      <td>Yes</td>\n",
       "      <td>No</td>\n",
       "    </tr>\n",
       "    <tr>\n",
       "      <th>1</th>\n",
       "      <td>20.34</td>\n",
       "      <td>0.0</td>\n",
       "      <td>0.0</td>\n",
       "      <td>No</td>\n",
       "      <td>No</td>\n",
       "      <td>Female</td>\n",
       "      <td>No</td>\n",
       "      <td>No</td>\n",
       "    </tr>\n",
       "    <tr>\n",
       "      <th>2</th>\n",
       "      <td>26.58</td>\n",
       "      <td>20.0</td>\n",
       "      <td>30.0</td>\n",
       "      <td>Yes</td>\n",
       "      <td>No</td>\n",
       "      <td>Male</td>\n",
       "      <td>Yes</td>\n",
       "      <td>No</td>\n",
       "    </tr>\n",
       "    <tr>\n",
       "      <th>3</th>\n",
       "      <td>24.21</td>\n",
       "      <td>0.0</td>\n",
       "      <td>0.0</td>\n",
       "      <td>No</td>\n",
       "      <td>No</td>\n",
       "      <td>Female</td>\n",
       "      <td>No</td>\n",
       "      <td>No</td>\n",
       "    </tr>\n",
       "    <tr>\n",
       "      <th>4</th>\n",
       "      <td>23.71</td>\n",
       "      <td>28.0</td>\n",
       "      <td>0.0</td>\n",
       "      <td>No</td>\n",
       "      <td>No</td>\n",
       "      <td>Female</td>\n",
       "      <td>No</td>\n",
       "      <td>No</td>\n",
       "    </tr>\n",
       "  </tbody>\n",
       "</table>\n",
       "</div>"
      ],
      "text/plain": [
       "     BMI  PhysicalHealth  MentalHealth Smoking AlcoholDrinking     Sex Asthma  \\\n",
       "0  16.60             3.0          30.0     Yes              No  Female    Yes   \n",
       "1  20.34             0.0           0.0      No              No  Female     No   \n",
       "2  26.58            20.0          30.0     Yes              No    Male    Yes   \n",
       "3  24.21             0.0           0.0      No              No  Female     No   \n",
       "4  23.71            28.0           0.0      No              No  Female     No   \n",
       "\n",
       "  HeartDisease  \n",
       "0           No  \n",
       "1           No  \n",
       "2           No  \n",
       "3           No  \n",
       "4           No  "
      ]
     },
     "execution_count": 3,
     "metadata": {},
     "output_type": "execute_result"
    }
   ],
   "source": [
    "#loading and reading the first five columns\n",
    "data=pd.read_csv(\"hd_data.csv\")\n",
    "data.head()\n"
   ]
  },
  {
   "cell_type": "code",
   "execution_count": 4,
   "id": "85bb54f4",
   "metadata": {},
   "outputs": [
    {
     "data": {
      "text/plain": [
       "BMI                0\n",
       "PhysicalHealth     0\n",
       "MentalHealth       0\n",
       "Smoking            0\n",
       "AlcoholDrinking    0\n",
       "Sex                0\n",
       "Asthma             0\n",
       "HeartDisease       0\n",
       "dtype: int64"
      ]
     },
     "execution_count": 4,
     "metadata": {},
     "output_type": "execute_result"
    }
   ],
   "source": [
    "#checking for nullvalues\n",
    "data.isnull().sum()"
   ]
  },
  {
   "cell_type": "code",
   "execution_count": 5,
   "id": "f116fa66",
   "metadata": {},
   "outputs": [
    {
     "data": {
      "text/html": [
       "<div>\n",
       "<style scoped>\n",
       "    .dataframe tbody tr th:only-of-type {\n",
       "        vertical-align: middle;\n",
       "    }\n",
       "\n",
       "    .dataframe tbody tr th {\n",
       "        vertical-align: top;\n",
       "    }\n",
       "\n",
       "    .dataframe thead th {\n",
       "        text-align: right;\n",
       "    }\n",
       "</style>\n",
       "<table border=\"1\" class=\"dataframe\">\n",
       "  <thead>\n",
       "    <tr style=\"text-align: right;\">\n",
       "      <th></th>\n",
       "      <th>BMI</th>\n",
       "      <th>PhysicalHealth</th>\n",
       "      <th>MentalHealth</th>\n",
       "    </tr>\n",
       "  </thead>\n",
       "  <tbody>\n",
       "    <tr>\n",
       "      <th>count</th>\n",
       "      <td>2500.000000</td>\n",
       "      <td>2500.000000</td>\n",
       "      <td>2500.000000</td>\n",
       "    </tr>\n",
       "    <tr>\n",
       "      <th>mean</th>\n",
       "      <td>29.236500</td>\n",
       "      <td>4.261200</td>\n",
       "      <td>3.818000</td>\n",
       "    </tr>\n",
       "    <tr>\n",
       "      <th>std</th>\n",
       "      <td>6.577619</td>\n",
       "      <td>8.730284</td>\n",
       "      <td>7.981325</td>\n",
       "    </tr>\n",
       "    <tr>\n",
       "      <th>min</th>\n",
       "      <td>12.480000</td>\n",
       "      <td>0.000000</td>\n",
       "      <td>0.000000</td>\n",
       "    </tr>\n",
       "    <tr>\n",
       "      <th>25%</th>\n",
       "      <td>24.765000</td>\n",
       "      <td>0.000000</td>\n",
       "      <td>0.000000</td>\n",
       "    </tr>\n",
       "    <tr>\n",
       "      <th>50%</th>\n",
       "      <td>28.250000</td>\n",
       "      <td>0.000000</td>\n",
       "      <td>0.000000</td>\n",
       "    </tr>\n",
       "    <tr>\n",
       "      <th>75%</th>\n",
       "      <td>32.920000</td>\n",
       "      <td>3.000000</td>\n",
       "      <td>3.000000</td>\n",
       "    </tr>\n",
       "    <tr>\n",
       "      <th>max</th>\n",
       "      <td>75.820000</td>\n",
       "      <td>30.000000</td>\n",
       "      <td>30.000000</td>\n",
       "    </tr>\n",
       "  </tbody>\n",
       "</table>\n",
       "</div>"
      ],
      "text/plain": [
       "               BMI  PhysicalHealth  MentalHealth\n",
       "count  2500.000000     2500.000000   2500.000000\n",
       "mean     29.236500        4.261200      3.818000\n",
       "std       6.577619        8.730284      7.981325\n",
       "min      12.480000        0.000000      0.000000\n",
       "25%      24.765000        0.000000      0.000000\n",
       "50%      28.250000        0.000000      0.000000\n",
       "75%      32.920000        3.000000      3.000000\n",
       "max      75.820000       30.000000     30.000000"
      ]
     },
     "execution_count": 5,
     "metadata": {},
     "output_type": "execute_result"
    }
   ],
   "source": [
    "\n",
    "#displaying statisctical values for quatitative variables\n",
    "numerical_data=data[['BMI', 'PhysicalHealth', 'MentalHealth']].describe()\n",
    "data[['BMI', 'PhysicalHealth', 'MentalHealth']].describe()"
   ]
  },
  {
   "cell_type": "code",
   "execution_count": 6,
   "id": "d65e18e3",
   "metadata": {},
   "outputs": [
    {
     "name": "stdout",
     "output_type": "stream",
     "text": [
      "No     2203\n",
      "Yes     297\n",
      "Name: HeartDisease, dtype: int64\n"
     ]
    },
    {
     "data": {
      "text/plain": [
       "Text(0.5, 1.0, 'distribution to show the imbalanced target')"
      ]
     },
     "execution_count": 6,
     "metadata": {},
     "output_type": "execute_result"
    },
    {
     "data": {
      "image/png": "[encoded data removed]",
      "text/plain": [
       "<Figure size 640x480 with 1 Axes>"
      ]
     },
     "metadata": {},
     "output_type": "display_data"
    }
   ],
   "source": [
    "#A histogram to check the distribution of our target values.\n",
    "#checking whether it is an imbalance dataset\n",
    "print(data.HeartDisease.value_counts())\n",
    "plt.hist(data.HeartDisease,color=\"green\")\n",
    "plt.xlabel(\"Y_AXIS\")\n",
    "plt.ylabel(\"Y_AXIS\")\n",
    "plt.title(\"distribution to show the imbalanced target\")"
   ]
  },
  {
   "cell_type": "code",
   "execution_count": 7,
   "id": "501486f8",
   "metadata": {},
   "outputs": [
    {
     "name": "stdout",
     "output_type": "stream",
     "text": [
      "                     BMI  PhysicalHealth  MentalHealth\n",
      "BMI             1.000000        0.101707      0.043986\n",
      "PhysicalHealth  0.101707        1.000000      0.280964\n",
      "MentalHealth    0.043986        0.280964      1.000000\n"
     ]
    },
    {
     "data": {
      "text/plain": [
       "<AxesSubplot: >"
      ]
     },
     "execution_count": 7,
     "metadata": {},
     "output_type": "execute_result"
    },
    {
     "data": {
      "image/png": "[encoded data removed]",
      "text/plain": [
       "<Figure size 640x480 with 2 Axes>"
      ]
     },
     "metadata": {},
     "output_type": "display_data"
    }
   ],
   "source": [
    "#checking the correlation coeficiency of numerical variables\n",
    "numerical=data[[\"BMI\",'PhysicalHealth', 'MentalHealth']]\n",
    "print(numerical.corr())\n",
    "\n",
    "sns.heatmap(numerical.corr())"
   ]
  },
  {
   "cell_type": "code",
   "execution_count": 8,
   "id": "a0db22e4",
   "metadata": {},
   "outputs": [
    {
     "data": {
      "text/plain": [
       "Text(0.5, 1.0, 'outliers detection')"
      ]
     },
     "execution_count": 8,
     "metadata": {},
     "output_type": "execute_result"
    },
    {
     "data": {
      "image/png": "[encoded data removed]",
      "text/plain": [
       "<Figure size 640x480 with 1 Axes>"
      ]
     },
     "metadata": {},
     "output_type": "display_data"
    }
   ],
   "source": [
    "#evaluating the relationship of numerical variables\n",
    "sns.boxplot(numerical).set_title(\"outliers detection\")\n"
   ]
  },
  {
   "cell_type": "code",
   "execution_count": 9,
   "id": "f648dd23",
   "metadata": {},
   "outputs": [
    {
     "name": "stdout",
     "output_type": "stream",
     "text": [
      "2406\n",
      "94\n"
     ]
    }
   ],
   "source": [
    "#values of alcohol drinker compared to heart disease\n",
    "alcohol_no=data[data[\"AlcoholDrinking\"] ==\"No\"]\n",
    "print(len(alcohol_no))\n",
    "alcohol=data[data[\"AlcoholDrinking\"] ==\"Yes\"]\n",
    "print(len(alcohol))\n",
    "#\n"
   ]
  },
  {
   "cell_type": "code",
   "execution_count": 10,
   "id": "e5e80abf",
   "metadata": {},
   "outputs": [
    {
     "data": {
      "text/plain": [
       "Text(0.5, 1.0, 'distribution of gender ')"
      ]
     },
     "execution_count": 10,
     "metadata": {},
     "output_type": "execute_result"
    },
    {
     "data": {
      "image/png": "[encoded data removed]",
      "text/plain": [
       "<Figure size 640x480 with 1 Axes>"
      ]
     },
     "metadata": {},
     "output_type": "display_data"
    }
   ],
   "source": [
    "#comparison of heart rate test based on gender\n",
    "plt.hist(data.Sex,color=\"green\")\n",
    "plt.title(\"distribution of gender \")\n"
   ]
  },
  {
   "cell_type": "code",
   "execution_count": 11,
   "id": "5f028e5b",
   "metadata": {},
   "outputs": [
    {
     "data": {
      "text/html": [
       "<div>\n",
       "<style scoped>\n",
       "    .dataframe tbody tr th:only-of-type {\n",
       "        vertical-align: middle;\n",
       "    }\n",
       "\n",
       "    .dataframe tbody tr th {\n",
       "        vertical-align: top;\n",
       "    }\n",
       "\n",
       "    .dataframe thead th {\n",
       "        text-align: right;\n",
       "    }\n",
       "</style>\n",
       "<table border=\"1\" class=\"dataframe\">\n",
       "  <thead>\n",
       "    <tr style=\"text-align: right;\">\n",
       "      <th></th>\n",
       "      <th>PhysicalHealth</th>\n",
       "      <th>MentalHealth</th>\n",
       "      <th>Smoking</th>\n",
       "      <th>AlcoholDrinking</th>\n",
       "      <th>Sex</th>\n",
       "      <th>Asthma</th>\n",
       "      <th>HeartDisease</th>\n",
       "    </tr>\n",
       "  </thead>\n",
       "  <tbody>\n",
       "    <tr>\n",
       "      <th>0</th>\n",
       "      <td>3.0</td>\n",
       "      <td>30.0</td>\n",
       "      <td>Yes</td>\n",
       "      <td>No</td>\n",
       "      <td>Female</td>\n",
       "      <td>Yes</td>\n",
       "      <td>No</td>\n",
       "    </tr>\n",
       "    <tr>\n",
       "      <th>1</th>\n",
       "      <td>0.0</td>\n",
       "      <td>0.0</td>\n",
       "      <td>No</td>\n",
       "      <td>No</td>\n",
       "      <td>Female</td>\n",
       "      <td>No</td>\n",
       "      <td>No</td>\n",
       "    </tr>\n",
       "    <tr>\n",
       "      <th>2</th>\n",
       "      <td>20.0</td>\n",
       "      <td>30.0</td>\n",
       "      <td>Yes</td>\n",
       "      <td>No</td>\n",
       "      <td>Male</td>\n",
       "      <td>Yes</td>\n",
       "      <td>No</td>\n",
       "    </tr>\n",
       "    <tr>\n",
       "      <th>3</th>\n",
       "      <td>0.0</td>\n",
       "      <td>0.0</td>\n",
       "      <td>No</td>\n",
       "      <td>No</td>\n",
       "      <td>Female</td>\n",
       "      <td>No</td>\n",
       "      <td>No</td>\n",
       "    </tr>\n",
       "    <tr>\n",
       "      <th>4</th>\n",
       "      <td>28.0</td>\n",
       "      <td>0.0</td>\n",
       "      <td>No</td>\n",
       "      <td>No</td>\n",
       "      <td>Female</td>\n",
       "      <td>No</td>\n",
       "      <td>No</td>\n",
       "    </tr>\n",
       "  </tbody>\n",
       "</table>\n",
       "</div>"
      ],
      "text/plain": [
       "   PhysicalHealth  MentalHealth Smoking AlcoholDrinking     Sex Asthma  \\\n",
       "0             3.0          30.0     Yes              No  Female    Yes   \n",
       "1             0.0           0.0      No              No  Female     No   \n",
       "2            20.0          30.0     Yes              No    Male    Yes   \n",
       "3             0.0           0.0      No              No  Female     No   \n",
       "4            28.0           0.0      No              No  Female     No   \n",
       "\n",
       "  HeartDisease  \n",
       "0           No  \n",
       "1           No  \n",
       "2           No  \n",
       "3           No  \n",
       "4           No  "
      ]
     },
     "execution_count": 11,
     "metadata": {},
     "output_type": "execute_result"
    }
   ],
   "source": [
    "#dropping the BMI which is the outlier\n",
    "filtered_data=data.drop(['BMI'],axis=1)\n",
    "filtered_data.head()"
   ]
  },
  {
   "cell_type": "code",
   "execution_count": 12,
   "id": "161b22c3",
   "metadata": {},
   "outputs": [],
   "source": [
    "#encoding the new dataframe without outliers\n",
    "encoder=LabelEncoder()\n",
    "\n",
    "encoded_data=filtered_data.apply(LabelEncoder().fit_transform)\n",
    "x=encoded_data.drop([\"HeartDisease\"],axis=1)\n",
    "y=encoded_data[\"HeartDisease\"]"
   ]
  },
  {
   "cell_type": "code",
   "execution_count": 13,
   "id": "0e53c802",
   "metadata": {},
   "outputs": [],
   "source": [
    "#converting imbalanced to balanced data\n",
    "\n",
    "from imblearn.over_sampling import SMOTE\n",
    "\n",
    "oversample = SMOTE()\n",
    "x,y= oversample.fit_resample(x,y)"
   ]
  },
  {
   "cell_type": "code",
   "execution_count": 14,
   "id": "2867dc97",
   "metadata": {},
   "outputs": [
    {
     "name": "stdout",
     "output_type": "stream",
     "text": [
      "HeartDisease\n",
      "0               2203\n",
      "1               2203\n",
      "dtype: int64\n"
     ]
    },
    {
     "data": {
      "text/plain": [
       "(4406, 1)"
      ]
     },
     "execution_count": 14,
     "metadata": {},
     "output_type": "execute_result"
    }
   ],
   "source": [
    "#checking the counts of classes on  the target dataframe \n",
    "x.shape\n",
    "y=pd.DataFrame(y)\n",
    "print(y.value_counts())\n",
    "y.shape"
   ]
  },
  {
   "cell_type": "code",
   "execution_count": 15,
   "id": "d593af65",
   "metadata": {},
   "outputs": [
    {
     "name": "stderr",
     "output_type": "stream",
     "text": [
      "C:\\Users\\wakalioa\\miniconda3\\lib\\site-packages\\sklearn\\utils\\validation.py:1111: DataConversionWarning: A column-vector y was passed when a 1d array was expected. Please change the shape of y to (n_samples, ), for example using ravel().\n",
      "  y = column_or_1d(y, warn=True)\n"
     ]
    },
    {
     "name": "stdout",
     "output_type": "stream",
     "text": [
      "MODEL ACCURACY {score} 61.71298922291548\n"
     ]
    }
   ],
   "source": [
    "#splitting the data into training and testing\n",
    "x_train,x_test,y_train,y_test=train_test_split(x,y,test_size=0.4,random_state=42)\n",
    "#fit the data into the svm classifier\n",
    "model=svm.SVC(kernel=\"linear\")\n",
    "model.fit(x_train,y_train)\n",
    "score=model.score(x_test,y_test)\n",
    "pred=model.predict(x_test)\n",
    "print(\"MODEL ACCURACY {score}\",score*100)"
   ]
  },
  {
   "cell_type": "code",
   "execution_count": 16,
   "id": "968acc03",
   "metadata": {},
   "outputs": [
    {
     "data": {
      "text/plain": [
       "array([[546, 372],\n",
       "       [303, 542]], dtype=int64)"
      ]
     },
     "execution_count": 16,
     "metadata": {},
     "output_type": "execute_result"
    }
   ],
   "source": [
    "#confusion matrix of the model\n",
    "confusion_matrix(y_test,pred)"
   ]
  },
  {
   "cell_type": "code",
   "execution_count": 17,
   "id": "9e0e4f86",
   "metadata": {},
   "outputs": [
    {
     "name": "stdout",
     "output_type": "stream",
     "text": [
      "Decisiontree  {score}:  62.847419171866136\n"
     ]
    }
   ],
   "source": [
    "#using decision tree clasifier\n",
    "classifier=DecisionTreeClassifier(\n",
    "            criterion = \"entropy\", random_state = 100,\n",
    "            max_depth = 3, min_samples_leaf = 5)\n",
    "  \n",
    "classifier.fit(x_train,y_train)\n",
    "score=classifier.score(x_test,y_test) \n",
    "y_pred=model.predict(x_test)\n",
    "print(\"Decisiontree  {score}: \", score*100)"
   ]
  },
  {
   "cell_type": "code",
   "execution_count": 18,
   "id": "08940252",
   "metadata": {},
   "outputs": [
    {
     "data": {
      "text/plain": [
       "array([[546, 372],\n",
       "       [303, 542]], dtype=int64)"
      ]
     },
     "execution_count": 18,
     "metadata": {},
     "output_type": "execute_result"
    }
   ],
   "source": [
    "#confusion matrix of decision tree\n",
    "confusion_matrix(y_test,y_pred)"
   ]
  },
  {
   "cell_type": "code",
   "execution_count": null,
   "id": "19139419",
   "metadata": {},
   "outputs": [],
   "source": []
  },
  {
   "cell_type": "code",
   "execution_count": null,
   "id": "c78bfac8",
   "metadata": {},
   "outputs": [],
   "source": []
  },
  {
   "cell_type": "code",
   "execution_count": null,
   "id": "ab522c20",
   "metadata": {},
   "outputs": [],
   "source": []
  },
  {
   "cell_type": "code",
   "execution_count": null,
   "id": "13354f2f",
   "metadata": {},
   "outputs": [],
   "source": []
  }
 ],
 "metadata": {
  "kernelspec": {
   "display_name": "Python 3 (ipykernel)",
   "language": "python",
   "name": "python3"
  },
  "language_info": {
   "codemirror_mode": {
    "name": "ipython",
    "version": 3
   },
   "file_extension": ".py",
   "mimetype": "text/x-python",
   "name": "python",
   "nbconvert_exporter": "python",
   "pygments_lexer": "ipython3",
   "version": "3.9.12"
  }
 },
 "nbformat": 4,
 "nbformat_minor": 5
}
